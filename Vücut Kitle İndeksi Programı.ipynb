{
 "cells": [
  {
   "cell_type": "code",
   "execution_count": null,
   "id": "8d530ae6",
   "metadata": {},
   "outputs": [],
   "source": [
    "# Kullanıcıdan kilo ve boy bilgilerini al\n",
    "kilo = float(input(\"Kilonuzu kg cinsinden girin: \"))\n",
    "boy = float(input(\"Boyunuzu metre cinsinden girin: \"))\n",
    " \n",
    "# Vücut kitle indeksini hesapla\n",
    "vki = kilo / (boy ** 2)\n",
    " \n",
    "# Vücut kitle indeksine göre durumu belirle ve ekrana yazdır\n",
    "if vki < 18.5:\n",
    "    print(\"Zayıf\")\n",
    "elif vki >= 18.5 and vki < 24.9:\n",
    "    print(\"Normal\")\n",
    "elif vki >= 25 and vki < 29.9:\n",
    "    print(\"Fazla kilolu\")\n",
    "elif vki >= 30 and vki < 34.9:\n",
    "    print(\"1. derece obez\")\n",
    "elif vki >= 35 and vki < 39.9:\n",
    "    print(\"2. derece obez\")\n",
    "else:\n",
    "    print(\"3. derece obez\")\n",
    " \n",
    "print(\"Vücut Kitle İndeksiniz:\", vki)"
   ]
  }
 ],
 "metadata": {
  "kernelspec": {
   "display_name": "Python 3 (ipykernel)",
   "language": "python",
   "name": "python3"
  },
  "language_info": {
   "codemirror_mode": {
    "name": "ipython",
    "version": 3
   },
   "file_extension": ".py",
   "mimetype": "text/x-python",
   "name": "python",
   "nbconvert_exporter": "python",
   "pygments_lexer": "ipython3",
   "version": "3.11.3"
  }
 },
 "nbformat": 4,
 "nbformat_minor": 5
}
